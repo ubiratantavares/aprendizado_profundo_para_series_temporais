{
  "nbformat": 4,
  "nbformat_minor": 0,
  "metadata": {
    "colab": {
      "name": "tutorial1.ipynb",
      "provenance": [],
      "collapsed_sections": [
        "Nr20qQbF-rZf",
        "Jn-MM6PbAIbv",
        "DEefATEtASKn",
        "pu1cglx2AdxH",
        "oFp91NX4Bon4",
        "XSktJoMHCB7h"
      ],
      "mount_file_id": "1mky7_IjHOQ0eFrK5gv04Tt2RK6dxEWJJ",
      "authorship_tag": "ABX9TyMR5/ggx/7BjzEErREsIDAN",
      "include_colab_link": true
    },
    "kernelspec": {
      "name": "python3",
      "display_name": "Python 3"
    },
    "language_info": {
      "name": "python"
    }
  },
  "cells": [
    {
      "cell_type": "markdown",
      "metadata": {
        "id": "view-in-github",
        "colab_type": "text"
      },
      "source": [
        "<a href=\"https://colab.research.google.com/github/ubiratantavares/aprendizado_profundo_para_series_temporais/blob/main/tutorial1.ipynb\" target=\"_parent\"><img src=\"https://colab.research.google.com/assets/colab-badge.svg\" alt=\"Open In Colab\"/></a>"
      ]
    },
    {
      "cell_type": "markdown",
      "source": [
        "#### Classe File"
      ],
      "metadata": {
        "id": "Nr20qQbF-rZf"
      }
    },
    {
      "cell_type": "code",
      "source": [
        "from pandas import read_csv\n",
        "\n",
        "class File:\n",
        "    \n",
        "    def __init__(self, name):\n",
        "        self.name = name\n",
        "        \n",
        "    # load dataset\n",
        "    def load(self):\n",
        "        series = read_csv(self.name, header=0, index_col=0)\n",
        "        return series    \n",
        "    \n",
        "    # summarize dataset\n",
        "    def summarize(self):\n",
        "        series = self.load()\n",
        "        print(series.shape)"
      ],
      "metadata": {
        "id": "f_e5TNz4-qjn"
      },
      "execution_count": 51,
      "outputs": []
    },
    {
      "cell_type": "markdown",
      "source": [
        "#### Classe Dataset"
      ],
      "metadata": {
        "id": "Jn-MM6PbAIbv"
      }
    },
    {
      "cell_type": "code",
      "source": [
        "class Dataset:\n",
        "    \n",
        "    def __init__(self, series):\n",
        "        self.data = series.values\n",
        "\n",
        "    # split a univariate dataset into train/test sets\n",
        "    def train_test_split(self, n_test):\n",
        "        return self.data[:-n_test], self.data[-n_test:]"
      ],
      "metadata": {
        "id": "wq7wf_7gAIvT"
      },
      "execution_count": 52,
      "outputs": []
    },
    {
      "cell_type": "markdown",
      "source": [
        "#### Classe Plot"
      ],
      "metadata": {
        "id": "DEefATEtASKn"
      }
    },
    {
      "cell_type": "code",
      "source": [
        "from matplotlib import pyplot as plt\n",
        "\n",
        "class Plot:\n",
        "    \n",
        "    def __init__(self, data):\n",
        "        self.data = data\n",
        "    \n",
        "    # create plot line\n",
        "    def line(self):\n",
        "        plt.plot(self.data)\n",
        "        plt.show() \n",
        "        \n",
        "    # create box and whisker plot\n",
        "    def boxplot(self):\n",
        "        plt.boxplot(self.data)\n",
        "        plt.show()"
      ],
      "metadata": {
        "id": "_V4sxo3ZASR2"
      },
      "execution_count": 53,
      "outputs": []
    },
    {
      "cell_type": "markdown",
      "source": [
        "#### Classe Measure"
      ],
      "metadata": {
        "id": "pu1cglx2AdxH"
      }
    },
    {
      "cell_type": "code",
      "source": [
        "from sklearn.metrics import mean_squared_error, mean_absolute_error\n",
        "from numpy import sqrt\n",
        "\n",
        "class Measure:\n",
        "    \n",
        "    def __init__(self):\n",
        "        pass\n",
        "    \n",
        "    # measure generic\n",
        "    def calculated(self, y_true, y_pred):\n",
        "        pass    \n",
        "    \n",
        "    def print_error(self, i, error):\n",
        "        print('{}: {:.3f}'.format(str(i+1), error))\n",
        "    \n",
        "# Mean Absolute Error (MAE)    \n",
        "class MAE(Measure):    \n",
        "\n",
        "    def calculated(self, y_true, y_pred):\n",
        "        return mean_absolute_error(y_true, y_pred)\n",
        "    \n",
        "# Mean Squared Error (MSE)\n",
        "class MSE(Measure):\n",
        "    \n",
        "    def calculated(self, y_true, y_pred):\n",
        "        return mean_squared_error(y_true, y_pred)\n",
        "    \n",
        "# Root Mean Squared Error (RMSE) \n",
        "class RMSE(Measure):\n",
        "   \n",
        "    def calculated(self, y_true, y_pred):\n",
        "        return mean_squared_error(y_true, y_pred, squared=False)\n",
        "\n",
        "class RMSE2(Measure):\n",
        "\n",
        "    # Root Mean Squared Error (RMSE)\n",
        "    def calculated(self, y_true, y_pred):\n",
        "        return sqrt(mean_squared_error(y_true, y_pred))"
      ],
      "metadata": {
        "id": "5cwXollBAd3O"
      },
      "execution_count": 54,
      "outputs": []
    },
    {
      "cell_type": "markdown",
      "source": [
        "#### Classe Model"
      ],
      "metadata": {
        "id": "oFp91NX4Bon4"
      }
    },
    {
      "cell_type": "code",
      "source": [
        "from pandas import DataFrame, concat\n",
        "from keras.models import Sequential\n",
        "from keras.layers import Dense, Flatten, LSTM, TimeDistributed, ConvLSTM2D\n",
        "from keras.layers.convolutional import Conv1D, MaxPooling1D\n",
        "\n",
        "class Model:\n",
        "    \n",
        "    def __init__(self):\n",
        "        pass\n",
        "        \n",
        "    def fit(self, train, config):\n",
        "        pass   \n",
        "    \n",
        "\n",
        "    # transform list into supervised learning format\n",
        "    def series_to_supervised(self, train, n_in=1, n_out=1):\n",
        "        df = DataFrame(train)\n",
        "        cols = list()\n",
        "        # input sequence (t-n, ... t-1)\n",
        "        for i in range(n_in, 0, -1):\n",
        "            cols.append(df.shift(i))\n",
        "        # forecast sequence (t, t+1, ... t+n)\n",
        "        for i in range(0, n_out):\n",
        "            cols.append(df.shift(-i))\n",
        "        # put it all together\n",
        "        agg = concat(cols, axis=1)\n",
        "        # drop rows with NaN values\n",
        "        agg.dropna(inplace=True)\n",
        "        return agg.values    \n",
        "    \n",
        "    # difference dataset\n",
        "    def difference(self, train, interval):        \n",
        "        return [(train[i] - train[i - interval]) \n",
        "                for i in range(interval, len(train))]\n",
        "    \n",
        "class Persistence(Model):\n",
        "    \n",
        "    # fit a model persistence\n",
        "    def fit(self, train, config):\n",
        "        return None\n",
        "    \n",
        "\n",
        "class MLP(Model): \n",
        "\n",
        "    # fit a model mlp\n",
        "    def fit(self, train, config):\n",
        "        # unpack config\n",
        "        n_input, n_nodes, n_epochs, n_batch, activation, loss, optimizer = config\n",
        "        # prepare data\n",
        "        data = self.series_to_supervised(train, n_in=n_input)\n",
        "        train_x, train_y = data[:, :-1], data[:, -1]\n",
        "        # define model        \n",
        "        model = Sequential()\n",
        "        \n",
        "        model.add(Dense(n_nodes, activation=activation, input_dim=n_input))\n",
        "        \n",
        "        model.add(Dense(1))\n",
        "        \n",
        "        model.compile(loss=loss, optimizer=optimizer)\n",
        "        \n",
        "        # fit\n",
        "        model.fit(train_x, train_y, epochs=n_epochs, batch_size=n_batch, verbose=0)\n",
        "        return model   \n",
        "   \n",
        "    \n",
        "    \n",
        "class CNN(Model):\n",
        "    \n",
        "    # fit a model\n",
        "    def fit(self, train, config):\n",
        "        # unpack config\n",
        "        n_input, n_filters, n_kernel, n_epochs, n_batch, activation, loss, optimizer = config\n",
        "    \t\n",
        "        # prepare data\n",
        "        data = self.series_to_supervised(train, n_in=n_input)\n",
        "        train_x, train_y = data[:, :-1], data[:, -1]\n",
        "        \n",
        "        train_x = train_x.reshape((train_x.shape[0], train_x.shape[1], 1))\n",
        "        \n",
        "        # define model\n",
        "        model = Sequential()\n",
        "        \n",
        "        model.add(Conv1D(filters=n_filters, \n",
        "                         kernel_size=n_kernel, \n",
        "                         activation=activation, \n",
        "                         input_shape=(n_input, 1)))\n",
        "        \n",
        "        model.add(Conv1D(filters=n_filters, \n",
        "                         kernel_size=n_kernel, \n",
        "                         activation=activation))\n",
        "        \n",
        "        model.add(MaxPooling1D(pool_size=2))\n",
        "        \n",
        "        model.add(Flatten())\n",
        "        \n",
        "        model.add(Dense(1))\n",
        "        \n",
        "        model.compile(loss=loss, optimizer=optimizer)\n",
        "        \n",
        "    \t# fit\n",
        "        model.fit(train_x, train_y, epochs=n_epochs, batch_size=n_batch, verbose=0)\n",
        "        return model\n",
        "    \n",
        "    \n",
        "class LSTMModel(Model):\n",
        "    \n",
        "    def fit(self, train, config):\n",
        "        # unpack config\n",
        "        n_input, n_nodes, n_epochs, n_batch, activation, loss, optimizer = config\n",
        "\n",
        "    \t# prepare data      \n",
        "        data = self.series_to_supervised(train, n_in=n_input)\n",
        "\n",
        "        train_x, train_y = data[:, :-1], data[:, -1]\n",
        "        \n",
        "        train_x = train_x.reshape((train_x.shape[0], train_x.shape[1], 1))\n",
        "        \n",
        "        # define model\n",
        "        model = Sequential()\n",
        "        model.add(LSTM(n_nodes, activation=activation, input_shape=(n_input, 1)))\n",
        "        model.add(Dense(n_nodes, activation=activation))\n",
        "        model.add(Dense(1))\n",
        "        model.compile(loss=loss, optimizer=optimizer)\n",
        "    \t\n",
        "        # fit\n",
        "        model.fit(train_x, train_y, epochs=n_epochs, batch_size=n_batch, verbose=0)\n",
        "        return model        \n",
        "    \n",
        "   \n",
        "    \n",
        "class CNNLSTM(Model):   \n",
        "    \n",
        "    def fit(self, train, config):\n",
        "        # unpack config\n",
        "        n_seq, n_steps, n_filters, n_kernel, n_nodes, n_epochs, n_batch, activation, loss, optimizer = config\n",
        "        n_input = n_seq * n_steps\n",
        "        \n",
        "        # prepare data\n",
        "        data = self.series_to_supervised(train, n_in=n_input)\n",
        "        train_x, train_y = data[:, :-1], data[:, -1]\n",
        "        train_x = train_x.reshape((train_x.shape[0], n_seq, n_steps, 1))\n",
        "        \n",
        "        # define model\n",
        "        model = Sequential()\n",
        "        \n",
        "        model.add(TimeDistributed(Conv1D(filters=n_filters, \n",
        "                                         kernel_size=n_kernel, \n",
        "                                         activation=activation, \n",
        "                                         input_shape=(None,n_steps,1))))\n",
        "        \n",
        "        model.add(TimeDistributed(Conv1D(filters=n_filters, \n",
        "                                         kernel_size=n_kernel, \n",
        "                                         activation=activation)))\n",
        "        \n",
        "        model.add(TimeDistributed(MaxPooling1D(pool_size=2)))\n",
        "        \n",
        "        model.add(TimeDistributed(Flatten()))\n",
        "        \n",
        "        model.add(LSTM(n_nodes, activation=activation))\n",
        "        \n",
        "        model.add(Dense(n_nodes, activation=activation))\n",
        "        \n",
        "        model.add(Dense(1))\n",
        "        \n",
        "        model.compile(loss=loss, optimizer=optimizer)\n",
        "        \n",
        "        # fit\n",
        "        model.fit(train_x, train_y, epochs=n_epochs, batch_size=n_batch, verbose=0)\n",
        "        return model\n",
        "        \n",
        "class ConvLSTM(Model):\n",
        "    \n",
        "    def fit(self, train, config):\n",
        "        # unpack config\n",
        "        n_seq, n_steps, n_filters, n_kernel, n_nodes, n_epochs, n_batch, activation, loss, optimizer = config\n",
        "        n_input = n_seq * n_steps\n",
        "        # prepare data\n",
        "        data = self.series_to_supervised(train, n_in=n_input)\n",
        "        train_x, train_y = data[:, :-1], data[:, -1]\n",
        "        train_x = train_x.reshape((train_x.shape[0], n_seq, 1, n_steps, 1))\n",
        "        # define model\n",
        "        model = Sequential()\n",
        "        \n",
        "        model.add(ConvLSTM2D(filters=n_filters, \n",
        "                             kernel_size=(1,n_kernel), \n",
        "                             activation=activation, \n",
        "                             input_shape=(n_seq, 1, n_steps, 1)))\n",
        "        \n",
        "        model.add(Flatten())\n",
        "        \n",
        "        model.add(Dense(n_nodes, activation=activation))\n",
        "\n",
        "        model.add(Dense(1))\n",
        "        \n",
        "        model.compile(loss=loss, optimizer=optimizer)\n",
        "        \n",
        "        # fit\n",
        "        model.fit(train_x, train_y, epochs=n_epochs, batch_size=n_batch, verbose=0)\n",
        "        return model"
      ],
      "metadata": {
        "id": "zERmDnzRBsWe"
      },
      "execution_count": 55,
      "outputs": []
    },
    {
      "cell_type": "markdown",
      "source": [
        "#### Classe Predict"
      ],
      "metadata": {
        "id": "XSktJoMHCB7h"
      }
    },
    {
      "cell_type": "code",
      "source": [
        "from numpy import median, array\n",
        "\n",
        "class Predict:\n",
        "    \n",
        "    def __init__(self):\n",
        "        pass\n",
        "    \n",
        "    def forecast(self, modelfit, history, config):\n",
        "        pass\n",
        "    \n",
        "    \n",
        "class PredictPersistente(Predict):\n",
        "    \n",
        "    # forecast with a pre-fit model - persistence\n",
        "    def forecast(self, modelfit, history, config):\n",
        "        values = list()\n",
        "        for offset in config:\n",
        "            values.append(history[-offset])\n",
        "        return median(values)\n",
        "    \n",
        "    \n",
        "class PredictMLP(Predict):\n",
        "    # forecast with a pre-fit model - MLP\n",
        "    def forecast(self, modelfit, history, config):        \n",
        "        # unpack config\n",
        "        n_input = config[0]\n",
        "\n",
        "        # prepare data\n",
        "        x_input = array(history[-n_input:]).reshape(1, n_input)\n",
        "        \n",
        "        # forecast\n",
        "        y_pred = modelfit.predict(x_input, verbose=0)\n",
        "        return y_pred[0]\n",
        "    \n",
        "    \n",
        "class PredictCNN(Predict):\n",
        "    \n",
        "    def forecast(self, modelfit, history, config):\n",
        "        # n_input, n_filters, n_kernel, n_epochs, n_batch, activation, loss, optimizer\n",
        "        n_input = config[0]\n",
        "        \n",
        "        # prepare data\n",
        "        x_input = array(history[-n_input:]).reshape((1, n_input, 1))\n",
        "\t\n",
        "        # forecast\n",
        "        y_pred = modelfit.predict(x_input, verbose=0)\n",
        "        return y_pred[0]\n",
        "    \n",
        "    \n",
        "class PredictLSTM(Predict):\n",
        "    \n",
        "    def forecast(self, modelfit, history, config):\n",
        "        # n_input, n_nodes, n_epochs, n_batch, activation, loss, optimizer = config\n",
        "        n_input = config[0]\n",
        "\n",
        "        # prepare data\n",
        "        x_input = array(history[-n_input:]).reshape((1, n_input, 1))\n",
        "\t\n",
        "        # forecast\n",
        "        y_pred = modelfit.predict(x_input, verbose=0)\n",
        "        return y_pred[0]\n",
        "    \n",
        "    \n",
        "class PredictCNNLSTM(Predict):\n",
        "    \n",
        "    def forecast(self, modelfit, history, config):\n",
        "        # unpack config\n",
        "        n_seq, n_steps, _, _, _, _, _, _, _, _ = config\n",
        "        n_input = n_seq * n_steps\n",
        "        # prepare data\n",
        "        x_input = array(history[-n_input:]).reshape((1, n_seq, n_steps, 1))\n",
        "        # forecast\n",
        "        yhat = modelfit.predict(x_input, verbose=0)\n",
        "        return yhat[0]\n",
        "    \n",
        "    \n",
        "class PredictConvLSTM(Predict):\n",
        "    \n",
        "    def forecast(self, modelfit, history, config):\n",
        "        # unpack config\n",
        "        n_seq, n_steps, _, _, _, _, _, _, _, _ = config\n",
        "        n_input = n_seq * n_steps\n",
        "        # prepare data\n",
        "        x_input = array(history[-n_input:]).reshape((1, n_seq, 1, n_steps, 1))\n",
        "        # forecast\n",
        "        yhat = modelfit.predict(x_input, verbose=0)\n",
        "        return yhat[0]"
      ],
      "metadata": {
        "id": "6TDDqwwUCCJc"
      },
      "execution_count": 56,
      "outputs": []
    },
    {
      "cell_type": "markdown",
      "source": [
        "#### Classe Evaluation"
      ],
      "metadata": {
        "id": "S9jNo2yECU0o"
      }
    },
    {
      "cell_type": "code",
      "source": [
        "from numpy import mean, std\n",
        "from time import time\n",
        "\n",
        "class Evaluation:\n",
        "    \n",
        "    def __init__(self, dataset, model, predict, measure):\n",
        "        self.dataset = dataset\n",
        "        self.model = model\n",
        "        self.predict = predict\n",
        "        self.measure = measure\n",
        "        \n",
        "        \n",
        "    def create_predictions(self, modelfit, history, test, config):\n",
        "        predictions = list()\n",
        "        for i in range(len(test)):\n",
        "            # fit model and make forecast for history\n",
        "            y_pred = self.predict.forecast(modelfit, history, config)\n",
        "            # store forecast in list of predictions\n",
        "            predictions.append(y_pred)\n",
        "            # add actual observation to history for the next loop\n",
        "            history.append(test[i])\n",
        "        return predictions\n",
        "    \n",
        "    \n",
        "    # walk-forward validation for univariate data\n",
        "    def walk_forward_validation(self, n_test, config, i):\n",
        "        # split dataset\n",
        "        train, test = self.dataset.train_test_split(n_test)\n",
        "        \n",
        "        # seed history with training dataset\n",
        "        history = [x for x in train]\n",
        "        \n",
        "        # fit model\n",
        "        modelfit = self.model.fit(train, config)\n",
        "\n",
        "        # step over each time-step in the test set\n",
        "        predictions = self.create_predictions(modelfit, history, test, config)\n",
        "        \n",
        "        # estimate prediction error        \n",
        "        error = self.measure.calculated(test, predictions)\n",
        "        # self.measure.print_error(i, error)\n",
        "        return error\n",
        "\n",
        "\n",
        "    # repeat evaluation of a config\n",
        "    def repeat_evaluate(self, parameters):\n",
        "        n_test, config, n_repeats = parameters\n",
        "        \n",
        "        # fit and evaluate the model n times\n",
        "        scores = [self.walk_forward_validation(n_test, config, i) for i in range(n_repeats)]\n",
        "        return scores\n",
        "\n",
        "\n",
        "    # summarize model performance\n",
        "    def summarize(self, parameters):    \n",
        "        start = time()        \n",
        "        scores = self.repeat_evaluate(parameters)\n",
        "        scores_m = mean(scores)\n",
        "        scores_std = std(scores)        \n",
        "        end = time()        \n",
        "        delta = end - start\n",
        "        print('Time: {:.3f}s >> Measure: {:.3f} (+/- {:.3f})'.format(delta, scores_m, scores_std))\n",
        "        return scores"
      ],
      "metadata": {
        "id": "_h5G9_iZCU9v"
      },
      "execution_count": 57,
      "outputs": []
    },
    {
      "cell_type": "markdown",
      "source": [
        "# MAIN"
      ],
      "metadata": {
        "id": "70hi3OSSA0fA"
      }
    },
    {
      "cell_type": "code",
      "source": [
        "# Load and plot dataset\n",
        "f = File('/content/drive/MyDrive/dissertacao/colab/monthly-car-sales.csv')\n",
        "f.summarize()"
      ],
      "metadata": {
        "colab": {
          "base_uri": "https://localhost:8080/",
          "height": 0
        },
        "id": "pnd5qVeQ-hA-",
        "outputId": "902f505d-9602-4013-fa3a-263ebfc0c22f"
      },
      "execution_count": 58,
      "outputs": [
        {
          "output_type": "stream",
          "name": "stdout",
          "text": [
            "(108, 1)\n"
          ]
        }
      ]
    },
    {
      "cell_type": "code",
      "source": [
        "series = f.load()\n",
        "print(series)"
      ],
      "metadata": {
        "colab": {
          "base_uri": "https://localhost:8080/",
          "height": 0
        },
        "id": "gY58GUrb_edu",
        "outputId": "e4b3841f-0c7f-42fe-e8ee-33f7e1be4a25"
      },
      "execution_count": 59,
      "outputs": [
        {
          "output_type": "stream",
          "name": "stdout",
          "text": [
            "         Sales\n",
            "Month         \n",
            "1960-01   6550\n",
            "1960-02   8728\n",
            "1960-03  12026\n",
            "1960-04  14395\n",
            "1960-05  14587\n",
            "...        ...\n",
            "1968-08  16722\n",
            "1968-09  14385\n",
            "1968-10  21342\n",
            "1968-11  17180\n",
            "1968-12  14577\n",
            "\n",
            "[108 rows x 1 columns]\n"
          ]
        }
      ]
    },
    {
      "cell_type": "code",
      "source": [
        "# create plot\n",
        "p = Plot(series)\n",
        "p.line()"
      ],
      "metadata": {
        "colab": {
          "base_uri": "https://localhost:8080/",
          "height": 265
        },
        "id": "UoaL11UGBTxo",
        "outputId": "a5b81eb2-772e-4ebd-d6ab-aa295ea7ef96"
      },
      "execution_count": 60,
      "outputs": [
        {
          "output_type": "display_data",
          "data": {
            "text/plain": [
              "<Figure size 432x288 with 1 Axes>"
            ],
            "image/png": "[encoded data removed]"
          },
          "metadata": {
            "needs_background": "light"
          }
        }
      ]
    },
    {
      "cell_type": "code",
      "source": [
        "# summarize dataset\n",
        "data = Dataset(series)\n",
        "train, test = data.train_test_split(12)\n",
        "print(train.shape, test.shape)"
      ],
      "metadata": {
        "colab": {
          "base_uri": "https://localhost:8080/",
          "height": 0
        },
        "id": "hX7UqxQrBZpV",
        "outputId": "72d226d8-cf6a-4f39-c232-683ceb706e56"
      },
      "execution_count": 61,
      "outputs": [
        {
          "output_type": "stream",
          "name": "stdout",
          "text": [
            "(96, 1) (12, 1)\n"
          ]
        }
      ]
    },
    {
      "cell_type": "code",
      "source": [
        "# Evaluate persistence model\n",
        "config = [12, 24, 36]\n",
        "parameters = (12, config, 30) # n_test, config, n_repeats\n",
        "\n",
        "model = Persistence()\n",
        "predicted = PredictPersistente()\n",
        "measure = RMSE()\n",
        "\n",
        "evaluation = Evaluation(data, model, predicted, measure)\n",
        "scores = evaluation.summarize(parameters)\n",
        "p = Plot(scores)\n",
        "p.boxplot()"
      ],
      "metadata": {
        "colab": {
          "base_uri": "https://localhost:8080/",
          "height": 282
        },
        "id": "bFesgn98CrRM",
        "outputId": "d288563d-7419-4bcf-fbef-f29df108166a"
      },
      "execution_count": 62,
      "outputs": [
        {
          "output_type": "stream",
          "name": "stdout",
          "text": [
            "Time: 0.027s >> Measure: 1841.156 (+/- 0.000)\n"
          ]
        },
        {
          "output_type": "display_data",
          "data": {
            "text/plain": [
              "<Figure size 432x288 with 1 Axes>"
            ],
            "image/png": "[encoded data removed]"
          },
          "metadata": {
            "needs_background": "light"
          }
        }
      ]
    },
    {
      "cell_type": "code",
      "source": [
        "# Evaluate MLP model\n",
        "\n",
        "'''\n",
        "n_input: 24 (e.g. 24 months)\n",
        "n_nodes: 500\n",
        "n_epochs: 100\n",
        "n_batch: 100\n",
        "activation = 'relu'\n",
        "loss = 'mse'\n",
        "optimizer = 'adam'\n",
        "'''\n",
        "config = [24, 500, 100, 100, 'relu', 'mse', 'adam'] \n",
        "\n",
        "parameters = (12, config, 30) # n_test, config, n_repeats\n",
        "\n",
        "model = MLP()\n",
        "predicted = PredictMLP()\n",
        "\n",
        "evaluation = Evaluation(data, model, predicted, measure)\n",
        "\n",
        "scores = evaluation.summarize(parameters)\n",
        "p = Plot(scores)\n",
        "p.boxplot()"
      ],
      "metadata": {
        "colab": {
          "base_uri": "https://localhost:8080/",
          "height": 282
        },
        "id": "swI_IybNC_zf",
        "outputId": "03e6e0e9-8731-4fe8-f3ad-2266dde7a377"
      },
      "execution_count": 63,
      "outputs": [
        {
          "output_type": "stream",
          "name": "stdout",
          "text": [
            "Time: 38.935s >> Measure: 1544.973 (+/- 160.140)\n"
          ]
        },
        {
          "output_type": "display_data",
          "data": {
            "text/plain": [
              "<Figure size 432x288 with 1 Axes>"
            ],
            "image/png": "[encoded data removed]"
          },
          "metadata": {
            "needs_background": "light"
          }
        }
      ]
    },
    {
      "cell_type": "code",
      "source": [
        "# Evaluate CNN model\n",
        "\n",
        "'''\n",
        "n_input: 36 (e.g. 3 years or 3 * 12)\n",
        "n_filters: 256\n",
        "n_kernel: 3\n",
        "n_epochs: 100\n",
        "n_batch: 100 (e.g. batch gradient descent)\n",
        "activation = 'relu'\n",
        "loss = 'mse'\n",
        "optimizer = 'adam'\n",
        "'''\n",
        "config = [36, 256, 3, 100, 100, 'relu', 'mse', 'adam']\n",
        "parameters = (12, config, 30) # n_test, config, n_repeats\n",
        "\n",
        "model = CNN()\n",
        "predicted = PredictCNN()\n",
        "\n",
        "evaluation = Evaluation(data, model, predicted, measure)\n",
        "scores = evaluation.summarize(parameters)\n",
        "p = Plot(scores)\n",
        "p.boxplot()"
      ],
      "metadata": {
        "colab": {
          "base_uri": "https://localhost:8080/",
          "height": 282
        },
        "id": "YyTlprHSDOUy",
        "outputId": "cadd1dd1-9c82-4b17-cd9a-5ad0b3479ac5"
      },
      "execution_count": 64,
      "outputs": [
        {
          "output_type": "stream",
          "name": "stdout",
          "text": [
            "Time: 276.027s >> Measure: 1552.314 (+/- 72.649)\n"
          ]
        },
        {
          "output_type": "display_data",
          "data": {
            "text/plain": [
              "<Figure size 432x288 with 1 Axes>"
            ],
            "image/png": "[encoded data removed]"
          },
          "metadata": {
            "needs_background": "light"
          }
        }
      ]
    },
    {
      "cell_type": "code",
      "source": [
        "# Evaluate LSTM model\n",
        "\n",
        "'''\n",
        "n_input: 36 (i.e. 3 years or 3 * 12)\n",
        "n_nodes: 50\n",
        "n_epochs: 100\n",
        "n_batch: 100 (i.e. batch gradient descent)\n",
        "activation = 'relu'\n",
        "loss = 'mse'\n",
        "optimizer = 'adam'\n",
        "'''\n",
        "config = [36, 50, 100, 100, 'relu', 'mse', 'adam']\n",
        "\n",
        "# n_test, config, n_repeats\n",
        "parameters = (12, config, 30)\n",
        "print(parameters)\n",
        "\n",
        "model = LSTMModel()\n",
        "predicted = PredictLSTM()\n",
        "\n",
        "evaluation = Evaluation(data, model, predicted, measure)\n",
        "scores = evaluation.summarize(parameters)\n",
        "p = Plot(scores)\n",
        "p.boxplot()"
      ],
      "metadata": {
        "colab": {
          "base_uri": "https://localhost:8080/",
          "height": 300
        },
        "id": "wwyubWOODYsZ",
        "outputId": "13d627fa-2e10-4718-dacd-2a9059a61c13"
      },
      "execution_count": 65,
      "outputs": [
        {
          "output_type": "stream",
          "name": "stdout",
          "text": [
            "(12, [36, 50, 100, 100, 'relu', 'mse', 'adam'], 30)\n",
            "Time: 126.553s >> Measure: 7613.694 (+/- 4936.382)\n"
          ]
        },
        {
          "output_type": "display_data",
          "data": {
            "text/plain": [
              "<Figure size 432x288 with 1 Axes>"
            ],
            "image/png": "[encoded data removed]"
          },
          "metadata": {
            "needs_background": "light"
          }
        }
      ]
    },
    {
      "cell_type": "code",
      "source": [
        "# Evaluate CNN LSTM model\n",
        "\n",
        "'''\n",
        "n_seq: 3 (i.e. 3 years)\n",
        "n_steps: 12 (i.e. 1 year of months)\n",
        "n_filters: 64\n",
        "n_kernel: 3\n",
        "n_nodes: 100\n",
        "n_epochs: 200\n",
        "n_batch: 100 (i.e. batch gradient descent)\n",
        "activation = 'relu'\n",
        "loss = 'mse'\n",
        "optimizer = 'adam'\n",
        "'''\n",
        "config = [3, 12, 64, 3, 100, 200, 100, 'relu', 'mse', 'adam']\n",
        "\n",
        "# n_test, config, n_repeats\n",
        "parameters = (12, config, 30)\n",
        "print(parameters)\n",
        "\n",
        "model = CNNLSTM()\n",
        "predicted = PredictCNNLSTM()\n",
        "\n",
        "evaluation = Evaluation(data, model, predicted, measure)\n",
        "scores = evaluation.summarize(parameters)\n",
        "p = Plot(scores)\n",
        "p.boxplot()"
      ],
      "metadata": {
        "colab": {
          "base_uri": "https://localhost:8080/",
          "height": 300
        },
        "id": "3IO_Nf_jDcUO",
        "outputId": "e4c22453-936a-423f-ef57-7c7a45f10101"
      },
      "execution_count": 66,
      "outputs": [
        {
          "output_type": "stream",
          "name": "stdout",
          "text": [
            "(12, [3, 12, 64, 3, 100, 200, 100, 'relu', 'mse', 'adam'], 30)\n",
            "Time: 195.867s >> Measure: 1654.148 (+/- 150.354)\n"
          ]
        },
        {
          "output_type": "display_data",
          "data": {
            "text/plain": [
              "<Figure size 432x288 with 1 Axes>"
            ],
            "image/png": "[encoded data removed]"
          },
          "metadata": {
            "needs_background": "light"
          }
        }
      ]
    },
    {
      "cell_type": "code",
      "source": [
        "# Evaluate ConvLSTM model\n",
        "\n",
        "'''\n",
        "n_seq: 3 (i.e. 3 years)\n",
        "n_steps: 12 (i.e. 1 year of months)\n",
        "n_filters: 256\n",
        "n_kernel: 3\n",
        "n_nodes: 200\n",
        "n_epochs: 200\n",
        "n_batch: 100 (i.e. batch gradient descent)\n",
        "activation = 'relu'\n",
        "loss = 'mse'\n",
        "optimizer = 'adam'\n",
        "'''\n",
        "config = [3, 12, 256, 3, 200, 200, 100, 'relu', 'mse', 'adam']\n",
        "\n",
        "# n_test, config, n_repeats\n",
        "parameters = (12, config, 30)\n",
        "\n",
        "model = ConvLSTM()\n",
        "predicted = PredictConvLSTM()\n",
        "\n",
        "evaluation = Evaluation(data, model, predicted, measure)\n",
        "scores = evaluation.summarize(parameters)\n",
        "p = Plot(scores)\n",
        "p.boxplot()"
      ],
      "metadata": {
        "colab": {
          "base_uri": "https://localhost:8080/",
          "height": 300
        },
        "id": "_rubNY6QDjiO",
        "outputId": "995cb944-47e2-4aca-ae20-12bda6f1fdb1"
      },
      "execution_count": 67,
      "outputs": [
        {
          "output_type": "stream",
          "name": "stdout",
          "text": [
            "(12, [3, 12, 256, 3, 200, 200, 100, 'relu', 'mse', 'adam'], 30)\n",
            "Time: 2864.272s >> Measure: 1631.748 (+/- 277.845)\n"
          ]
        },
        {
          "output_type": "display_data",
          "data": {
            "text/plain": [
              "<Figure size 432x288 with 1 Axes>"
            ],
            "image/png": "[encoded data removed]"
          },
          "metadata": {
            "needs_background": "light"
          }
        }
      ]
    }
  ]
}